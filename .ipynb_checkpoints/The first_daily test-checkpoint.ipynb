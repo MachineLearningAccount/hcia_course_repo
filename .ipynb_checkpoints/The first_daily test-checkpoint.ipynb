{
 "cells": [
  {
   "cell_type": "markdown",
   "metadata": {},
   "source": [
    "# 1.Print 'Hello HCIA'."
   ]
  },
  {
   "cell_type": "code",
   "execution_count": 1,
   "metadata": {},
   "outputs": [
    {
     "name": "stdout",
     "output_type": "stream",
     "text": [
      "Hello HCIA\n"
     ]
    }
   ],
   "source": [
    "print('Hello HCIA')"
   ]
  },
  {
   "cell_type": "markdown",
   "metadata": {},
   "source": [
    "# 2.Define two variables and calculate their sum."
   ]
  },
  {
   "cell_type": "code",
   "execution_count": 2,
   "metadata": {},
   "outputs": [
    {
     "data": {
      "text/plain": [
       "40"
      ]
     },
     "execution_count": 2,
     "metadata": {},
     "output_type": "execute_result"
    }
   ],
   "source": [
    "a = 10\n",
    "b = 30\n",
    "a + b"
   ]
  },
  {
   "cell_type": "markdown",
   "metadata": {},
   "source": [
    "# 3.Define a list and replicate in three different ways."
   ]
  },
  {
   "cell_type": "markdown",
   "metadata": {},
   "source": [
    "Создал 4 листа разными способами."
   ]
  },
  {
   "cell_type": "code",
   "execution_count": 9,
   "metadata": {},
   "outputs": [
    {
     "name": "stdout",
     "output_type": "stream",
     "text": [
      "[1, 2, 'Python', True, 1.05]\n",
      "['5', '6', '7']\n",
      "[0, 1, 2, 3, 4]\n",
      "[0, 2, 4]\n"
     ]
    }
   ],
   "source": [
    "list_a = [1, 2, \"Python\", True, 1.05]\n",
    "list_b = list(\"567\")\n",
    "list_c = list(range(5))\n",
    "list_d = [x for x in range(5) if x % 2 == 0]\n",
    "\n",
    "print(list_a)\n",
    "print(list_b)\n",
    "print(list_c)\n",
    "print(list_d)"
   ]
  },
  {
   "cell_type": "markdown",
   "metadata": {},
   "source": [
    "# 4.Define two lists and merge them together."
   ]
  },
  {
   "cell_type": "markdown",
   "metadata": {},
   "source": [
    "Ниже, привожу 3 способа соединить несколько списков в один."
   ]
  },
  {
   "cell_type": "code",
   "execution_count": 13,
   "metadata": {},
   "outputs": [
    {
     "name": "stdout",
     "output_type": "stream",
     "text": [
      "[1, 2, 'Python', True, 1.05, '5', '6', '7', 0, 1, 2, 3, 4, 0, 2, 4]\n"
     ]
    }
   ],
   "source": [
    "list_m = list_a + list_b\n",
    "list_m.extend(list_c)\n",
    "list_m+=list_d\n",
    "\n",
    "print(list_m)"
   ]
  },
  {
   "cell_type": "markdown",
   "metadata": {},
   "source": [
    "# 5. Get the last element of the list and print it."
   ]
  },
  {
   "cell_type": "code",
   "execution_count": 14,
   "metadata": {},
   "outputs": [
    {
     "data": {
      "text/plain": [
       "4"
      ]
     },
     "execution_count": 14,
     "metadata": {},
     "output_type": "execute_result"
    }
   ],
   "source": [
    "list_m[-1]"
   ]
  },
  {
   "cell_type": "markdown",
   "metadata": {},
   "source": [
    "# 6.Define a tuple that contains only one element."
   ]
  },
  {
   "cell_type": "code",
   "execution_count": 24,
   "metadata": {},
   "outputs": [
    {
     "name": "stdout",
     "output_type": "stream",
     "text": [
      "tuple_a = (2,), has length = 1 and it is <class 'tuple'>\n"
     ]
    }
   ],
   "source": [
    "tuple_a = 2,\n",
    "print(f\"tuple_a = {tuple_a}, has length = {len(tuple_a)} and it is {type(tuple_a)}\")"
   ]
  },
  {
   "cell_type": "markdown",
   "metadata": {},
   "source": [
    "# 7.Define a three-line long string."
   ]
  },
  {
   "cell_type": "markdown",
   "metadata": {},
   "source": [
    "Сделал объект string из 3х строк разделённых \\n."
   ]
  },
  {
   "cell_type": "code",
   "execution_count": 28,
   "metadata": {},
   "outputs": [
    {
     "name": "stdout",
     "output_type": "stream",
     "text": [
      "Cherevko\n",
      "Vladimir\n",
      "Igorevich\n"
     ]
    }
   ],
   "source": [
    "list_st = [\"Cherevko\", \"Vladimir\", \"Igorevich\"]\n",
    "print(\"\\n\".join(list_st))"
   ]
  },
  {
   "cell_type": "markdown",
   "metadata": {},
   "source": [
    "# 8.Define a tuple and then use the 'for loop' to print all the elements."
   ]
  },
  {
   "cell_type": "code",
   "execution_count": 29,
   "metadata": {},
   "outputs": [
    {
     "name": "stdout",
     "output_type": "stream",
     "text": [
      "Cherevko\n",
      "Vladimir\n",
      "Igorevich\n",
      "1988\n",
      "3\n",
      "11\n"
     ]
    }
   ],
   "source": [
    "tuple_st = (\"Cherevko\", \"Vladimir\", \"Igorevich\", 1988, 3, 11)\n",
    "for x in tuple_st:\n",
    "    print(x)"
   ]
  },
  {
   "cell_type": "markdown",
   "metadata": {},
   "source": [
    "# 9.Define a function to do Multiplication, such as Mul(8,6),and its output 48."
   ]
  },
  {
   "cell_type": "code",
   "execution_count": 30,
   "metadata": {},
   "outputs": [
    {
     "name": "stdout",
     "output_type": "stream",
     "text": [
      "6\n"
     ]
    }
   ],
   "source": [
    "def Mul(a,b):\n",
    "    return a*b\n",
    "\n",
    "print(Mul(2,3))"
   ]
  },
  {
   "cell_type": "markdown",
   "metadata": {},
   "source": [
    "# 10.Import numpy and use numpy to define an array, the its shape  is (5,5) and all its elements is 0."
   ]
  },
  {
   "cell_type": "code",
   "execution_count": 32,
   "metadata": {},
   "outputs": [
    {
     "name": "stdout",
     "output_type": "stream",
     "text": [
      "[[0. 0. 0. 0. 0.]\n",
      " [0. 0. 0. 0. 0.]\n",
      " [0. 0. 0. 0. 0.]\n",
      " [0. 0. 0. 0. 0.]\n",
      " [0. 0. 0. 0. 0.]]\n"
     ]
    }
   ],
   "source": [
    "import numpy as np\n",
    "print(np.zeros((5,5)))"
   ]
  },
  {
   "cell_type": "markdown",
   "metadata": {},
   "source": [
    "# 11.Import numpy and use numpy to define an array, the shape is (4,6) and all elements is 0."
   ]
  },
  {
   "cell_type": "code",
   "execution_count": 33,
   "metadata": {},
   "outputs": [
    {
     "name": "stdout",
     "output_type": "stream",
     "text": [
      "[[0. 0. 0. 0. 0. 0.]\n",
      " [0. 0. 0. 0. 0. 0.]\n",
      " [0. 0. 0. 0. 0. 0.]\n",
      " [0. 0. 0. 0. 0. 0.]]\n"
     ]
    }
   ],
   "source": [
    "import numpy as np\n",
    "print(np.zeros((4,6)))"
   ]
  },
  {
   "cell_type": "markdown",
   "metadata": {},
   "source": [
    "# 12.Use numpy.arrange() to generate an array of shape(15,), then modify the shape to(3,5)."
   ]
  },
  {
   "cell_type": "code",
   "execution_count": 49,
   "metadata": {},
   "outputs": [
    {
     "data": {
      "text/plain": [
       "array([[ 0,  1,  2,  3,  4],\n",
       "       [ 5,  6,  7,  8,  9],\n",
       "       [10, 11, 12, 13, 14]])"
      ]
     },
     "execution_count": 49,
     "metadata": {},
     "output_type": "execute_result"
    }
   ],
   "source": [
    "matrix_mod = np.arange(15).reshape(3,5)\n",
    "matrix_mod"
   ]
  },
  {
   "cell_type": "markdown",
   "metadata": {},
   "source": [
    "# 13.Define two matrices, then calculate and print the result of their point multiplication."
   ]
  },
  {
   "cell_type": "code",
   "execution_count": 48,
   "metadata": {},
   "outputs": [
    {
     "name": "stdout",
     "output_type": "stream",
     "text": [
      "[[1 2]\n",
      " [3 4]]\n",
      "\n",
      "[[5 6]\n",
      " [7 8]]\n",
      "\n",
      "[[19 22]\n",
      " [43 50]]\n"
     ]
    }
   ],
   "source": [
    "matrix_a = np.arange(1,5).reshape(2,2)\n",
    "print(matrix_a, end='\\n'*2)\n",
    "matrix_b = np.arange(5,9).reshape(2,2)\n",
    "print(matrix_b, end='\\n'*2)\n",
    "\n",
    "matrix_mult = np.dot(matrix_a, matrix_b)\n",
    "print(matrix_mult)"
   ]
  }
 ],
 "metadata": {
  "kernelspec": {
   "display_name": "Python 3",
   "language": "python",
   "name": "python3"
  },
  "language_info": {
   "codemirror_mode": {
    "name": "ipython",
    "version": 3
   },
   "file_extension": ".py",
   "mimetype": "text/x-python",
   "name": "python",
   "nbconvert_exporter": "python",
   "pygments_lexer": "ipython3",
   "version": "3.7.10"
  }
 },
 "nbformat": 4,
 "nbformat_minor": 2
}
